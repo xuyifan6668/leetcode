{
 "cells": [
  {
   "cell_type": "markdown",
   "source": [
    "88 Merge Sorted Array\n",
    "\n",
    "You are given two integer arrays nums1 and nums2, sorted in non-decreasing order, and two integers m and n, representing the number of elements in nums1 and nums2 respectively.\n",
    "Merge nums1 and nums2 into a single array sorted in non-decreasing order.\n",
    "The final sorted array should not be returned by the function, but instead be stored inside the array nums1. To accommodate this, nums1 has a length of m + n, where the first m elements denote the elements that should be merged, and the last n elements are set to 0 and should be ignored. nums2 has a length of n.\n",
    "\n",
    "Solution1: 从左边开始修改 Time Complexity: O(m*n), Space Complexity: O(1)\n",
    "Solution2: Considering the non-decreasing sorting of original array, computation from right side will be more efficient,"
   ],
   "metadata": {
    "collapsed": false
   }
  },
  {
   "cell_type": "code",
   "execution_count": null,
   "outputs": [],
   "source": [
    "# version1\n",
    "class Solution:\n",
    "    def merge(self, nums1: list[int], m:int, nums2: list[int], n:int) -> None:\n",
    "        if nums1[-1] == 0:\n",
    "            nums1 = nums2\n",
    "            print(nums1)\n",
    "        elif n != 0:\n",
    "            for i in range(m):\n",
    "                if nums1[i] > nums2[0]:\n",
    "                    temp = nums1[i]\n",
    "                    nums1[i] = nums2[0]\n",
    "                    nums2[0] = temp\n",
    "                    for j in range(n-1):\n",
    "                        if nums2[j] > nums2[j + 1]:\n",
    "                            temp = nums2[j]\n",
    "                            nums2[j] = nums2[j + 1]\n",
    "                            nums2[j + 1] = temp\n",
    "                        else:\n",
    "                            break\n",
    "            for k in range(n):\n",
    "                nums1[m + k] = nums2[k]"
   ],
   "metadata": {
    "collapsed": false
   }
  },
  {
   "cell_type": "code",
   "execution_count": null,
   "outputs": [],
   "source": [
    "\n",
    "# version 2\n",
    "class Solution2:\n",
    "    def merge(self, nums1: list[int], m:int, nums2: list[int], n:int) -> None:\n",
    "        index1 = m-1\n",
    "        index2 = n-1\n",
    "        index = m+n-1\n",
    "        if m==0:\n",
    "            for i in range(n):\n",
    "                nums1[i] = nums2[i]\n",
    "            return\n",
    "        while (index1 >= 0) & (index2 >= 0):\n",
    "            if nums1[index1] >= nums2[index2]:\n",
    "                nums1[index] = nums1[index1]\n",
    "                index1-=1\n",
    "            else:\n",
    "                nums1[index] = nums2[index2]\n",
    "                index2-=1\n",
    "            index-=1\n",
    "\n",
    "        for i in range(index2+1):\n",
    "            nums1[i] = nums2[i]"
   ],
   "metadata": {
    "collapsed": false
   }
  },
  {
   "cell_type": "markdown",
   "source": [
    "27 Remove Element\n",
    "\n",
    "Given an integer array nums and an integer val, remove all occurrences of val in nums in-place. The order of the elements may be changed. Then return the number of elements in nums which are not equal to val.\n",
    "Consider the number of elements in nums which are not equal to val be k, to get accepted, you need to do the following things:\n",
    "Change the array nums such that the first k elements of nums contain the elements which are not equal to val. The remaining elements of nums are not important as well as the size of nums.\n",
    "Return k.\n",
    "\n",
    "Solution: Remember the number of values unequal to val  val_num right now and give the val_num.th value nums[index]"
   ],
   "metadata": {
    "collapsed": false
   }
  },
  {
   "cell_type": "code",
   "execution_count": 2,
   "outputs": [],
   "source": [
    "class Solution:\n",
    "    def removeElement(self, nums: list[int], val: int) -> int:\n",
    "        n = len(nums)\n",
    "        index = 0\n",
    "        val_num = 0\n",
    "        while index < n:\n",
    "            if nums[index] != val:\n",
    "                nums[val_num] = nums[index]\n",
    "                val_num +=1\n",
    "            index +=1\n",
    "        return val_num"
   ],
   "metadata": {
    "collapsed": false
   }
  },
  {
   "cell_type": "markdown",
   "source": [
    "26 Remove Duplicates from Sorted Array\n",
    "\n",
    "Given an integer array nums sorted in non-decreasing order, remove the duplicates in-place such that each unique element appears only once. The relative order of the elements should be kept the same. Then return the number of unique elements in nums.\n",
    "Consider the number of unique elements of nums to be k, to get accepted, you need to do the following things:\n",
    "Change the array nums such that the first k elements of nums contain the unique elements in the order they were present in nums initially. The remaining elements of nums are not important as well as the size of nums.\n",
    "Return k.\n",
    "\n",
    "Solution: like last problem"
   ],
   "metadata": {
    "collapsed": false
   }
  },
  {
   "cell_type": "code",
   "execution_count": 3,
   "outputs": [],
   "source": [
    "class Solution:\n",
    "    def removeDuplicates(self, nums: list[int]) -> int:\n",
    "        k = 1\n",
    "        n = len(nums)\n",
    "        pre_num = nums[0]\n",
    "        for i in range(1,n):\n",
    "            if nums[i] != pre_num:\n",
    "                nums[k] = nums[i]\n",
    "                pre_num = nums[i]\n",
    "                k += 1\n",
    "        return k"
   ],
   "metadata": {
    "collapsed": false
   }
  },
  {
   "cell_type": "markdown",
   "source": [
    "26 Remove Duplicates from Sorted Array ||\n",
    "\n",
    "Given an integer array nums sorted in non-decreasing order, remove some duplicates in-place such that each unique element appears at most twice. The relative order of the elements should be kept the same.\n",
    "\n",
    "Since it is impossible to change the length of the array in some languages, you must instead have the result be placed in the first part of the array nums. More formally, if there are k elements after removing the duplicates, then the first k elements of nums should hold the final result. It does not matter what you leave beyond the first k elements.\n",
    "\n",
    "Return k after placing the final result in the first k slots of nums.\n",
    "\n",
    "Do not allocate extra space for another array. You must do this by modifying the input array in-place with O(1) extra memory."
   ],
   "metadata": {
    "collapsed": false
   }
  },
  {
   "cell_type": "code",
   "execution_count": null,
   "outputs": [],
   "source": [],
   "metadata": {
    "collapsed": false
   }
  }
 ],
 "metadata": {
  "kernelspec": {
   "display_name": "Python 3",
   "language": "python",
   "name": "python3"
  },
  "language_info": {
   "codemirror_mode": {
    "name": "ipython",
    "version": 2
   },
   "file_extension": ".py",
   "mimetype": "text/x-python",
   "name": "python",
   "nbconvert_exporter": "python",
   "pygments_lexer": "ipython2",
   "version": "2.7.6"
  }
 },
 "nbformat": 4,
 "nbformat_minor": 0
}
